{
 "cells": [
  {
   "cell_type": "markdown",
   "id": "20d34454-620d-446f-84ba-629f8297095d",
   "metadata": {},
   "source": [
    "## Pyspark"
   ]
  },
  {
   "cell_type": "code",
   "execution_count": 3,
   "id": "23a9401e-02e9-4945-bb97-a1100f7cb192",
   "metadata": {
    "jupyter": {
     "source_hidden": true
    }
   },
   "outputs": [],
   "source": [
    "import findspark\n",
    "findspark.init()\n",
    "findspark.find()\n",
    "import pyspark\n",
    "from pyspark.sql import SparkSession\n",
    "import gc\n",
    "spark = SparkSession.builder.master(\"local[1]\").appName(\"EHR\").getOrCreate()"
   ]
  },
  {
   "cell_type": "markdown",
   "id": "e02aa103-85a6-4175-9d0c-b4a9d3bce6ec",
   "metadata": {},
   "source": [
    "## Showing label counts:"
   ]
  },
  {
   "cell_type": "code",
   "execution_count": 246,
   "id": "a67fe920-127e-4cd9-828b-cb535055ca72",
   "metadata": {
    "jupyter": {
     "source_hidden": true
    }
   },
   "outputs": [
    {
     "name": "stdout",
     "output_type": "stream",
     "text": [
      "+-----+-----+\n",
      "|label|count|\n",
      "+-----+-----+\n",
      "|    1| 9735|\n",
      "|    0| 9735|\n",
      "+-----+-----+\n",
      "\n"
     ]
    }
   ],
   "source": [
    "# Import data into dataframe\n",
    "df = spark.read.csv(\"balancData.csv\", header=True, inferSchema=True)\n",
    "\n",
    "# Showing the different label counts\n",
    "df.groupBy('label').count().show()\n",
    "gc.collect()\n",
    "# Creating a list of all column names that are features (minus the last column which is the label)\n",
    "features_list = df.columns[:-1]\n",
    "# features_list"
   ]
  },
  {
   "cell_type": "markdown",
   "id": "cb192bc3-ff78-4b42-81bc-cc9a09ecc779",
   "metadata": {},
   "source": [
    "## Transforming the vector and forming the dataframe:"
   ]
  },
  {
   "cell_type": "code",
   "execution_count": 247,
   "id": "75334f97-19a2-4811-8445-d95598d40938",
   "metadata": {
    "jupyter": {
     "source_hidden": true
    }
   },
   "outputs": [
    {
     "data": {
      "text/plain": [
       "[Row(Gender=1, pH1=-0.9667304460815365, pH2=0.3101074784827635, pCO2=0.9139223165427528, Sodium=0.0877891360317685, Glucose1=-0.07718891798005709, Glucose2=-0.25726631077956813, Lactate=2.7539346919060748, Chloride=-0.1680928492985376, Potassium=0.16342800612951874, Creatinine=0.14203397959974753, Hemoglobin1=-1.4088879735418802, Hemoglobin2=-1.3883112450182808, Urea Nitrogen=0.5885442925168796, Sodium, Whole Blood=0.19464213611504833, Chloride, Whole Blood=1.4775950160686262, Potassium, Whole Blood=-0.21292303507327479, label=0, feature_vector=DenseVector([1.0, -0.9667, 0.3101, 0.9139, 0.0878, -0.0772, -0.2573, 2.7539, -0.1681, 0.1634, 0.142, -1.4089, -1.3883, 0.5885, 0.1946, 1.4776, -0.2129]))]"
      ]
     },
     "execution_count": 247,
     "metadata": {},
     "output_type": "execute_result"
    }
   ],
   "source": [
    "# Importing the vector assembler module from pyspark\n",
    "from pyspark.ml.feature import VectorAssembler\n",
    "\n",
    "# Using the VectorAssembler method to create a vector of features\n",
    "feature_vector_assembler = VectorAssembler(inputCols=features_list,\n",
    "                                           outputCol=\"feature_vector\")\n",
    "\n",
    "# Transforming the vector and mounting it to the dataframe\n",
    "df = feature_vector_assembler.transform(df)\n",
    "\n",
    "# Showing the frist row of the dataframe to illustrate that the feature vector has been added to the dataframe\n",
    "df.take(1)"
   ]
  },
  {
   "cell_type": "code",
   "execution_count": 248,
   "id": "8f3d115d-b82b-4334-b469-b93e067f3a35",
   "metadata": {
    "jupyter": {
     "source_hidden": true
    }
   },
   "outputs": [
    {
     "name": "stderr",
     "output_type": "stream",
     "text": [
      "                                                                                \r"
     ]
    },
    {
     "name": "stdout",
     "output_type": "stream",
     "text": [
      "Training data count:  15535\n"
     ]
    },
    {
     "name": "stderr",
     "output_type": "stream",
     "text": [
      "                                                                                \r"
     ]
    },
    {
     "name": "stdout",
     "output_type": "stream",
     "text": [
      "Test data count:  3935\n"
     ]
    },
    {
     "name": "stderr",
     "output_type": "stream",
     "text": [
      "                                                                                \r"
     ]
    },
    {
     "name": "stdout",
     "output_type": "stream",
     "text": [
      "Check if total count is right:  True\n"
     ]
    }
   ],
   "source": [
    "# creating a dataframe for the model to fit to\n",
    "model_df = df.select([\"feature_vector\",\"label\"])\n",
    "# Splitting the data into training, test, and validation dataframes using a the randomSplit method with a seed to standardize the output sizes across multiple runs of the file\n",
    "training_df, test_df = model_df.randomSplit([0.8, 0.2], seed=22)\n",
    "\n",
    "# Showing the number of rows in the dataframe\n",
    "print(\"Training data count: \", training_df.count())\n",
    "# Showing the number of rows in the dataframe\n",
    "print(\"Test data count: \",test_df.count())\n",
    "# Showing the total rows across the split dataframes\n",
    "print(\"Check if total count is right: \", training_df.count() + test_df.count()== df.count())\n"
   ]
  },
  {
   "cell_type": "code",
   "execution_count": 249,
   "id": "f0916115-ce75-40b9-8db0-b6e42ef7f69a",
   "metadata": {
    "jupyter": {
     "source_hidden": true
    }
   },
   "outputs": [],
   "source": [
    "import time\n",
    "# Finding the number of true positive results\n",
    "def trueOrFalse(test_results):\n",
    "    tp = test_results[(test_results.label==1) & (test_results.prediction==1)].count()\n",
    "    # Finding the number of true negative results\n",
    "    tn = test_results[(test_results.label==0) & (test_results.prediction==0)].count()\n",
    "    # Finding the number of false positive results\n",
    "    fp = test_results[(test_results.label==0) & (test_results.prediction==1)].count()\n",
    "    # Finding the number of false negative results\n",
    "    fn = test_results[(test_results.label==1) & (test_results.prediction==0)].count()\n",
    "    return tp, tn, fp, fn\n",
    "from pyspark.mllib.evaluation import MulticlassMetrics\n",
    "def Eval2(test_results):\n",
    "    rdd = test_results.select(\"prediction\",\"label\")\n",
    "    rdd.schema\n",
    "    rdd = rdd.withColumn(\"label\", rdd[\"label\"].cast('double')) \n",
    "    rdd.schema\n",
    "    rdd = rdd.rdd\n",
    "    rdd = rdd.map(tuple)\n",
    "    metrics = MulticlassMetrics(rdd)\n",
    "    precision = metrics.precision(1.0)\n",
    "    recall = metrics.recall(1.0)\n",
    "    f1Score = metrics.fMeasure(1.0)\n",
    "    # print(\"Summary Stats\")\n",
    "    # print(\"Precision = %s\" % precision)\n",
    "    # print(\"Recall = %s\" % recall)\n",
    "    # print(\"F1 Score = %s\" % f1Score)\n",
    "    \n",
    "    # Statistics by class\n",
    "    training_rdd = training_df.withColumn(\"label\", training_df[\"label\"].cast('double'))\n",
    "    labels = training_rdd.rdd.map(lambda lp: lp.label).distinct().collect()\n",
    "    for label in sorted(labels):\n",
    "        print(\"Class %s precision = %s\" % (label, metrics.precision(label)))\n",
    "        print(\"Class %s recall = %s\" % (label, metrics.recall(label)))\n",
    "        \n",
    "    # Weighted stats\n",
    "    print(\"Accuracy = %s\" % metrics.accuracy)\n",
    "    print(\"Weighted recall = %s\" % metrics.weightedRecall)\n",
    "    print(\"Weighted precision = %s\" % metrics.weightedPrecision)\n",
    "    print(\"Weighted F(1) Score = %s\" % metrics.weightedFMeasure())\n"
   ]
  },
  {
   "cell_type": "markdown",
   "id": "2b86fac2-82e2-47ce-8735-1c0f02111782",
   "metadata": {},
   "source": [
    "## Logistic regression"
   ]
  },
  {
   "cell_type": "code",
   "execution_count": 250,
   "id": "a722bfe7-6a33-411f-893d-1429ae45f1d0",
   "metadata": {
    "jupyter": {
     "source_hidden": true
    }
   },
   "outputs": [
    {
     "name": "stderr",
     "output_type": "stream",
     "text": [
      "                                                                                \r"
     ]
    },
    {
     "name": "stdout",
     "output_type": "stream",
     "text": [
      "Logistic regression model fitting time:  2.6503100395202637\n",
      "Logistic regression model predicting time:  0.24041247367858887\n"
     ]
    }
   ],
   "source": [
    "# Importing the Logistic Regression model from pyspark ml library\n",
    "from pyspark.ml.classification import LogisticRegression\n",
    "# ==================\n",
    "start_time = time.time()\n",
    "# Fitting the model and storing it to a variable\n",
    "log_reg = LogisticRegression(featuresCol=\"feature_vector\", labelCol=\"label\").fit(training_df)\n",
    "# Showing the model\n",
    "end_time = time.time()\n",
    "print(\"Logistic regression model fitting time: \", end_time-start_time)\n",
    "# ==================\n",
    "start_time = time.time()\n",
    "# Training the model with the training data and storing the predictions in a variable\n",
    "test_resultsLog = log_reg.evaluate(test_df).predictions\n",
    "end_time = time.time()\n",
    "print(\"Logistic regression model predicting time: \", end_time-start_time)\n"
   ]
  },
  {
   "cell_type": "code",
   "execution_count": 251,
   "id": "cee60423-c396-48d7-ac99-fcf91ec08fde",
   "metadata": {
    "jupyter": {
     "source_hidden": true
    }
   },
   "outputs": [
    {
     "name": "stderr",
     "output_type": "stream",
     "text": [
      "                                                                                \r"
     ]
    },
    {
     "name": "stdout",
     "output_type": "stream",
     "text": [
      "+-----+----------+-----+\n",
      "|label|prediction|count|\n",
      "+-----+----------+-----+\n",
      "|    0|       0.0| 1486|\n",
      "|    0|       1.0|  478|\n",
      "|    1|       0.0|  751|\n",
      "|    1|       1.0| 1220|\n",
      "+-----+----------+-----+\n",
      "\n"
     ]
    },
    {
     "name": "stderr",
     "output_type": "stream",
     "text": [
      "                                                                                \r"
     ]
    },
    {
     "name": "stdout",
     "output_type": "stream",
     "text": [
      "Class 0.0 precision = 0.6642825212337953\n",
      "Class 0.0 recall = 0.7566191446028513\n",
      "Class 1.0 precision = 0.71849234393404\n",
      "Class 1.0 recall = 0.6189751395230847\n",
      "Accuracy = 0.6876747141041931\n",
      "Weighted recall = 0.6876747141041931\n",
      "Weighted precision = 0.691435649707031\n",
      "Weighted F(1) Score = 0.6862032453769922\n"
     ]
    },
    {
     "data": {
      "image/png": "[encoded data removed]",
      "text/plain": [
       "<Figure size 640x480 with 2 Axes>"
      ]
     },
     "metadata": {},
     "output_type": "display_data"
    }
   ],
   "source": [
    "from pyspark.sql.functions import asc\n",
    "from pyspark.sql.functions import desc\n",
    "import matplotlib.pyplot as plt\n",
    "import numpy\n",
    "from sklearn import metrics\n",
    "# ==================\n",
    "test_resultsLog.groupBy(\"label\", \"prediction\").count().sort(asc(\"label\"), asc(\"prediction\")).show()\n",
    "tpLog, tnLog, fpLog, fnLog =  trueOrFalse(test_resultsLog)\n",
    "# ==================\n",
    "Eval2(test_resultsLog)\n",
    "# ==================\n",
    "confusion_matrix = numpy.array([[tpLog, fpLog], [fnLog, tnLog]])\n",
    "cm_display = metrics.ConfusionMatrixDisplay(confusion_matrix = confusion_matrix, display_labels = ['Positive', 'Negative'])\n",
    "cm_display.plot()\n",
    "plt.title(\"Logistic Regression\")\n",
    "plt.savefig('./Log_Reg_CM.png')\n",
    "plt.show()"
   ]
  },
  {
   "cell_type": "code",
   "execution_count": 235,
   "id": "c524589f-b4bf-40dd-8a99-bbd3e75505d2",
   "metadata": {
    "jupyter": {
     "source_hidden": true
    }
   },
   "outputs": [],
   "source": [
    "# # Importing multiclass classification evaluator from pyspark\n",
    "# from pyspark.ml.evaluation import MulticlassClassificationEvaluator\n",
    "\n",
    "# # Save the evalutor to a variable with the resuts input and metric\n",
    "# multi_evaluator = MulticlassClassificationEvaluator(labelCol=\"label\", metricName='accuracy')\n",
    "\n",
    "# # Returns the accuarcy given the test results data\n",
    "# # Showing you can get the accuracy a different way\n",
    "# multi_evaluator.evaluate(test_results)"
   ]
  },
  {
   "cell_type": "markdown",
   "id": "0067e0d3-5b1f-4caf-af99-6a1731bdaaae",
   "metadata": {},
   "source": [
    "## SVM"
   ]
  },
  {
   "cell_type": "code",
   "execution_count": 245,
   "id": "0d4b8835-89d5-4a70-a9b4-334545777c39",
   "metadata": {
    "jupyter": {
     "source_hidden": true
    }
   },
   "outputs": [
    {
     "name": "stdout",
     "output_type": "stream",
     "text": [
      "SVM model fitting time:  5.783548355102539\n",
      "SVM model predicting time:  0.07319355010986328\n",
      "Class 0.0 precision = 0.6476705490848585\n",
      "Class 0.0 recall = 0.7927698574338086\n",
      "Class 1.0 precision = 0.7341606792945787\n",
      "Class 1.0 recall = 0.5702688990360223\n",
      "Accuracy = 0.6813214739517154\n",
      "Weighted recall = 0.6813214739517154\n",
      "Weighted precision = 0.6909925431492445\n",
      "Weighted F(1) Score = 0.677352350552925\n"
     ]
    },
    {
     "data": {
      "image/png": "[encoded data removed]",
      "text/plain": [
       "<Figure size 640x480 with 2 Axes>"
      ]
     },
     "metadata": {},
     "output_type": "display_data"
    }
   ],
   "source": [
    "from pyspark.ml.classification import LinearSVC\n",
    "from pyspark.ml import Pipeline\n",
    "\n",
    "df = spark.read.csv(\"balancData.csv\", header=True, inferSchema=True)\n",
    "training_df, test_df = df.randomSplit([0.8, 0.2], seed=22)\n",
    "\n",
    "features_list = ['Gender','pH1','pH2','pCO2','Sodium','Glucose1','Glucose2',\n",
    "                 'Lactate','Chloride','Potassium','Creatinine','Hemoglobin1',\n",
    "                 'Hemoglobin2','Urea Nitrogen','Sodium, Whole Blood',\n",
    "                 'Chloride, Whole Blood', 'Potassium, Whole Blood']\n",
    "\n",
    "feature_vector_assembler = VectorAssembler(inputCols=df.columns[:-1],\n",
    "                                           outputCol=\"features\")\n",
    "\n",
    "# ==================\n",
    "# Don't do it! \n",
    "# df = feature_vector_assembler.transform(df)\n",
    "# training_df = feature_vector_assembler.transform(training_df)\n",
    "# test_df = feature_vector_assembler.transform(test_df)\n",
    "# ==================\n",
    "\n",
    "# Initialize LinearSVC model\n",
    "svm = LinearSVC(labelCol=\"label\")\n",
    "\n",
    "# Create a pipeline\n",
    "pipeline = Pipeline(stages=[feature_vector_assembler, svm])\n",
    "# ==================\n",
    "start_time = time.time()\n",
    "# Fit the pipeline to the training data\n",
    "svmmodel = pipeline.fit(training_df)\n",
    "end_time = time.time()\n",
    "print(\"SVM model fitting time: \", end_time-start_time)\n",
    "# ==================\n",
    "start_time = time.time()\n",
    "# Make predictions\n",
    "test_resultsSVM = svmmodel.transform(test_df)\n",
    "end_time = time.time()\n",
    "print(\"SVM model predicting time: \", end_time-start_time)\n",
    "# ==================\n",
    "tpSVM, tnSVM, fpSVM, fnSVM =  trueOrFalse(test_resultsSVM)\n",
    "# ==================\n",
    "# Finding the accuracy of the model manually\n",
    "Eval2(test_resultsSVM)\n",
    "# ==================\n",
    "# Plot\n",
    "confusion_matrix = numpy.array([[tpSVM, fpSVM], [fnSVM, tnSVM]])\n",
    "cm_display = metrics.ConfusionMatrixDisplay(confusion_matrix = confusion_matrix, display_labels = ['Positive', 'Negative'])\n",
    "cm_display.plot()\n",
    "plt.title(\"SVM-linear classifier\")\n",
    "plt.savefig('./SVM_CM.png')\n",
    "plt.show()\n"
   ]
  },
  {
   "cell_type": "code",
   "execution_count": null,
   "id": "8d5faff4-b024-4291-b780-c0a9dc7fc284",
   "metadata": {},
   "outputs": [],
   "source": []
  }
 ],
 "metadata": {
  "kernelspec": {
   "display_name": "Python 3 (ipykernel)",
   "language": "python",
   "name": "python3"
  },
  "language_info": {
   "codemirror_mode": {
    "name": "ipython",
    "version": 3
   },
   "file_extension": ".py",
   "mimetype": "text/x-python",
   "name": "python",
   "nbconvert_exporter": "python",
   "pygments_lexer": "ipython3",
   "version": "3.11.5"
  }
 },
 "nbformat": 4,
 "nbformat_minor": 5
}
